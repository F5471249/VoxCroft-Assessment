{
 "cells": [
  {
   "cell_type": "markdown",
   "id": "afca72f7-c849-40fe-8c5e-93292640d85f",
   "metadata": {},
   "source": [
    "QUESTION 1"
   ]
  },
  {
   "cell_type": "code",
   "execution_count": 18,
   "id": "86f98fba-8fba-4fb9-abac-033db43c3699",
   "metadata": {},
   "outputs": [
    {
     "name": "stdout",
     "output_type": "stream",
     "text": [
      "2\n"
     ]
    }
   ],
   "source": [
    "def foo(L):\n",
    "    x = 1\n",
    "    #Removing negative numbers from L\n",
    "    L = [num for num in L if num > 0]\n",
    "    \n",
    "    #Sorting L\n",
    "    L.sort()\n",
    "    \n",
    "    #Checking gaps in L\n",
    "    for i in range(len(L) - 1):\n",
    "        if x != L[i]:\n",
    "            return x\n",
    "        else:\n",
    "            x +=1\n",
    "            \n",
    "#Printing the results\n",
    "print(foo( [-1,-3,1,4,5] ))  "
   ]
  },
  {
   "cell_type": "markdown",
   "id": "77bc089e-1e0b-407c-b0b5-4919380409c8",
   "metadata": {},
   "source": [
    "QUESTION 2"
   ]
  },
  {
   "cell_type": "code",
   "execution_count": 19,
   "id": "61c5b3ad-5bad-4a53-85b5-137066bfee8e",
   "metadata": {},
   "outputs": [
    {
     "ename": "ModuleNotFoundError",
     "evalue": "No module named 'geopy'",
     "output_type": "error",
     "traceback": [
      "\u001b[0;31m---------------------------------------------------------------------------\u001b[0m",
      "\u001b[0;31mModuleNotFoundError\u001b[0m                       Traceback (most recent call last)",
      "Input \u001b[0;32mIn [19]\u001b[0m, in \u001b[0;36m<cell line: 3>\u001b[0;34m()\u001b[0m\n\u001b[1;32m      1\u001b[0m \u001b[38;5;66;03m#Importing needed libraries\u001b[39;00m\n\u001b[1;32m      2\u001b[0m \u001b[38;5;28;01mimport\u001b[39;00m \u001b[38;5;21;01msys\u001b[39;00m\n\u001b[0;32m----> 3\u001b[0m \u001b[38;5;28;01mfrom\u001b[39;00m \u001b[38;5;21;01mgeopy\u001b[39;00m\u001b[38;5;21;01m.\u001b[39;00m\u001b[38;5;21;01mgeocoders\u001b[39;00m \u001b[38;5;28;01mimport\u001b[39;00m Nominatim\n\u001b[1;32m      5\u001b[0m \u001b[38;5;66;03m# Defining the latitude and longitude arguments\u001b[39;00m\n\u001b[1;32m      6\u001b[0m latitude \u001b[38;5;241m=\u001b[39m \u001b[38;5;28mfloat\u001b[39m(sys\u001b[38;5;241m.\u001b[39margv[\u001b[38;5;241m1\u001b[39m])\n",
      "\u001b[0;31mModuleNotFoundError\u001b[0m: No module named 'geopy'"
     ]
    }
   ],
   "source": [
    "#Importing needed libraries\n",
    "import sys\n",
    "from geopy.geocoders import Nominatim\n",
    "\n",
    "# Defining the latitude and longitude arguments\n",
    "latitude = float(sys.argv[1])\n",
    "longitude = float(sys.argv[2])\n",
    "\n",
    "#Using GeoPy to geocode the coordinates and retrieve the country name\n",
    "geolocator = Nominatim(user_agent=\"geocode.py\")\n",
    "location = geolocator.reverse(f\"{latitude}, {longitude}\", exactly_one=True)\n",
    "country = location.raw['address']['country']\n",
    "\n",
    "#Printing the country\n",
    "print(country)\n",
    "\n",
    "\n",
    "#python ...Question2.py\"  -26.2022700 28.0436300 "
   ]
  },
  {
   "cell_type": "markdown",
   "id": "242f8eb8-ea68-47fb-8586-8ca76d7fb18e",
   "metadata": {},
   "source": [
    "QUESTION 3"
   ]
  },
  {
   "cell_type": "code",
   "execution_count": 20,
   "id": "c634096f-01c8-4610-a38c-74c7869bcd04",
   "metadata": {},
   "outputs": [
    {
     "name": "stdout",
     "output_type": "stream",
     "text": [
      "S0S\n"
     ]
    }
   ],
   "source": [
    "X = \"15553555254555555555555555555555555555555555555555555555555555555555555555555555555525333325555555555555555555555555555555555555235145555555555555555555555555555555555555555555555555555555555555555555555555554115555S5555555555555555555555145555555555555555555555555555525555355555555555555555555555555555555515555555555555555555555555555555555555155555555555555555555555555555555555333355555123333355555555555555555555555555555555555515555525525252525255555553333555555555555555555555555555555555555555555555555555555555555555555555235533335555555555555555555555555555555555255455555555555555555555555555555555555333335555555555555555555555555555555555555155555555525055555555555555555S55555125552555555555555555555555555555555551255555555555555555555555555555555525555555555555554355555555555555555555555555555555555555555555555555555533335555555555555555555555555555555555555555555555555555555555555555555555555555555555555555555555555555555555555555555555555555555555435523555555555533334555555555555555555255555515555555555555555555555555555555555555555555554333355555555555553555555555555555555555555555555555555552555555555555555555553333555555555555555555215555555555555555555555555555255555555555555555555555533335555555555553355515555255555555555555555555555555555555555555555555555555333355555555555555555555512114232355555555555555555555523345555555555555533333333125555555555\"\n",
    "Y = ['1','2','3','4','5']\n",
    "\n",
    "#Finding the characters in X that are not in Y\n",
    "new_chars = [c for c in X if c not in Y]\n",
    "\n",
    "#Joining the chars into a string\n",
    "new_string = \"\".join(new_chars)\n",
    "\n",
    "# Print the resulting string\n",
    "print(new_string)\n"
   ]
  },
  {
   "cell_type": "markdown",
   "id": "a855bece-ffc1-485f-b1ad-a0e3f20e58c2",
   "metadata": {},
   "source": [
    "QUESTION 4"
   ]
  },
  {
   "cell_type": "code",
   "execution_count": 21,
   "id": "f13ae979-5c56-4d92-bb83-4a3b37c2a645",
   "metadata": {},
   "outputs": [
    {
     "name": "stdout",
     "output_type": "stream",
     "text": [
      "Number of vowels in Question4.txt: 138040\n"
     ]
    }
   ],
   "source": [
    "filename = \"Question4.txt\"\n",
    "\n",
    "#Defining the set of vowels\n",
    "vowels = set(\"aeiouAEIOU\")\n",
    "with open(filename, \"r\") as f:\n",
    "    text = f.read()\n",
    "\n",
    "# Counting the number of vowels\n",
    "num_vowels = sum(1 for c in text if c in vowels)\n",
    "\n",
    "# Printing the result\n",
    "print(f\"Number of vowels in {filename}: {num_vowels}\")\n",
    "\n"
   ]
  },
  {
   "cell_type": "markdown",
   "id": "6803f019-50f5-432f-85ef-1b813cfed416",
   "metadata": {},
   "source": [
    "QUESTION 5"
   ]
  },
  {
   "cell_type": "code",
   "execution_count": null,
   "id": "6e406cf3-53f9-4ecc-a94d-85ba98942367",
   "metadata": {},
   "outputs": [],
   "source": []
  },
  {
   "cell_type": "markdown",
   "id": "a7f8589a-55e4-4cd3-a572-62a203f6c276",
   "metadata": {},
   "source": [
    "QUESTION 6"
   ]
  },
  {
   "cell_type": "code",
   "execution_count": 22,
   "id": "676b5677-5289-425f-b2f3-be56bbe40ccc",
   "metadata": {},
   "outputs": [
    {
     "ename": "NameError",
     "evalue": "name 'df1' is not defined",
     "output_type": "error",
     "traceback": [
      "\u001b[0;31m---------------------------------------------------------------------------\u001b[0m",
      "\u001b[0;31mNameError\u001b[0m                                 Traceback (most recent call last)",
      "Input \u001b[0;32mIn [22]\u001b[0m, in \u001b[0;36m<cell line: 12>\u001b[0;34m()\u001b[0m\n\u001b[1;32m     10\u001b[0m     \u001b[38;5;28;01melif\u001b[39;00m \u001b[38;5;241m1170.2\u001b[39m \u001b[38;5;241m<\u001b[39m\u001b[38;5;241m=\u001b[39m df[\u001b[38;5;124m'\u001b[39m\u001b[38;5;124mFreq\u001b[39m\u001b[38;5;124m'\u001b[39m] \u001b[38;5;241m<\u001b[39m\u001b[38;5;241m=\u001b[39m \u001b[38;5;241m1182.2\u001b[39m:\n\u001b[1;32m     11\u001b[0m         \u001b[38;5;28;01mreturn\u001b[39;00m \u001b[38;5;124m'\u001b[39m\u001b[38;5;124mL5\u001b[39m\u001b[38;5;124m'\u001b[39m\n\u001b[0;32m---> 12\u001b[0m df1[\u001b[38;5;124m'\u001b[39m\u001b[38;5;124mtype\u001b[39m\u001b[38;5;124m'\u001b[39m] \u001b[38;5;241m=\u001b[39m \u001b[43mdf1\u001b[49m\u001b[38;5;241m.\u001b[39mapply(\u001b[38;5;28;01mlambda\u001b[39;00m x: range_func(x),axis\u001b[38;5;241m=\u001b[39m\u001b[38;5;241m1\u001b[39m)\n",
      "\u001b[0;31mNameError\u001b[0m: name 'df1' is not defined"
     ]
    }
   ],
   "source": [
    "def range_func(df):\n",
    "    if 1567.7 <= df['Freq'] <= 1582.7:\n",
    "        return 'L1'\n",
    "    elif 1222.1 <= df['Freq'] <= 1232.1:\n",
    "        return 'L2'\n",
    "    elif 1379.9 <= df['Freq'] <= 1385.9:\n",
    "        return 'L3'\n",
    "    elif 1374.8 <= df['Freq'] <= 1384.8:\n",
    "        return 'L4'\n",
    "    elif 1170.2 <= df['Freq'] <= 1182.2:\n",
    "        return 'L5'\n",
    "df1['type'] = df1.apply(lambda x: range_func(x),axis=1)"
   ]
  },
  {
   "cell_type": "code",
   "execution_count": null,
   "id": "c51645a1-67bd-4ca6-b789-1fe0a1792057",
   "metadata": {},
   "outputs": [],
   "source": []
  },
  {
   "cell_type": "code",
   "execution_count": null,
   "id": "679f9dc6-c20e-4a0d-a820-9c1875fa764f",
   "metadata": {},
   "outputs": [],
   "source": []
  }
 ],
 "metadata": {
  "kernelspec": {
   "display_name": "anaconda-2022.05-py39",
   "language": "python",
   "name": "conda-env-anaconda-2022.05-py39-py"
  },
  "language_info": {
   "codemirror_mode": {
    "name": "ipython",
    "version": 3
   },
   "file_extension": ".py",
   "mimetype": "text/x-python",
   "name": "python",
   "nbconvert_exporter": "python",
   "pygments_lexer": "ipython3",
   "version": "3.9.12"
  }
 },
 "nbformat": 4,
 "nbformat_minor": 5
}
